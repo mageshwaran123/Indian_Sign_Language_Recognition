{
  "cells": [
    {
      "cell_type": "markdown",
      "metadata": {
        "id": "6ZnfCHUGF0i2"
      },
      "source": [
        "# **Step 1 - Load the Required packages**"
      ]
    },
    {
      "cell_type": "code",
      "execution_count": 1,
      "metadata": {
        "id": "UaF5cVsaE7I2",
        "colab": {
          "base_uri": "https://localhost:8080/"
        },
        "outputId": "56dd4b50-99d9-4c22-98bd-a4949bcf2914"
      },
      "outputs": [
        {
          "output_type": "stream",
          "name": "stdout",
          "text": [
            "Mounted at /content/drive\n"
          ]
        }
      ],
      "source": [
        "from google.colab import drive\n",
        "drive.mount('/content/drive')"
      ]
    },
    {
      "cell_type": "code",
      "execution_count": 2,
      "metadata": {
        "id": "svQ_-OSSFrYF"
      },
      "outputs": [],
      "source": [
        "import tensorflow as tf\n",
        "from tensorflow.keras.layers import Dense, Flatten\n",
        "from tensorflow.keras.models import Model"
      ]
    },
    {
      "cell_type": "markdown",
      "metadata": {
        "id": "_nA1Ed_6GtTI"
      },
      "source": [
        "# **Step 2 - Load the Indian hand Sign dataset**"
      ]
    },
    {
      "cell_type": "code",
      "execution_count": 3,
      "metadata": {
        "id": "vF9sdVAeFz-P",
        "colab": {
          "base_uri": "https://localhost:8080/"
        },
        "outputId": "3a663027-876d-446c-a1ca-bd374fcc68f3"
      },
      "outputs": [
        {
          "output_type": "stream",
          "name": "stdout",
          "text": [
            "Found 28673 images belonging to 35 classes.\n",
            "Found 14045 images belonging to 35 classes.\n"
          ]
        }
      ],
      "source": [
        "train_dir = '/content/drive/MyDrive/dataset/Train'\n",
        "test_dir = '/content/drive/MyDrive/dataset/Test'\n",
        "train_data = tf.keras.preprocessing.image.ImageDataGenerator(rescale=1./255)\n",
        "test_data = tf.keras.preprocessing.image.ImageDataGenerator(rescale=1./255)\n",
        "train_generator = train_data.flow_from_directory(train_dir, target_size=(224, 224), batch_size=32, class_mode='categorical')\n",
        "test_generator = test_data.flow_from_directory(test_dir, target_size=(224, 224), batch_size=32, class_mode='categorical')"
      ]
    },
    {
      "cell_type": "markdown",
      "metadata": {
        "id": "AX0K-Ju8JDpY"
      },
      "source": [
        "# **Step 3 - Load the pre-Trained ResNet50 Model**"
      ]
    },
    {
      "cell_type": "code",
      "execution_count": 4,
      "metadata": {
        "id": "WtjsHR4XF0A2",
        "colab": {
          "base_uri": "https://localhost:8080/"
        },
        "outputId": "92d0f582-545a-4142-b2d8-d086182aff33"
      },
      "outputs": [
        {
          "output_type": "stream",
          "name": "stdout",
          "text": [
            "Downloading data from https://storage.googleapis.com/tensorflow/keras-applications/resnet/resnet50_weights_tf_dim_ordering_tf_kernels_notop.h5\n",
            "94765736/94765736 [==============================] - 1s 0us/step\n"
          ]
        }
      ],
      "source": [
        "base_model = tf.keras.applications.ResNet50(weights='imagenet', include_top=False)"
      ]
    },
    {
      "cell_type": "markdown",
      "metadata": {
        "id": "Xg3ygzZxJ-Ex"
      },
      "source": [
        "# **Step 4 - Freeze the weight of the Pre_trained layers**"
      ]
    },
    {
      "cell_type": "code",
      "execution_count": 5,
      "metadata": {
        "id": "BFgbJi--F0DG"
      },
      "outputs": [],
      "source": [
        "for layer in base_model.layers:\n",
        "  layer.trainable = False"
      ]
    },
    {
      "cell_type": "markdown",
      "metadata": {
        "id": "1t0cVbBxMAi7"
      },
      "source": [
        "# **Step 5 - Add a new classification layer on top of the Pre - Trained Model**"
      ]
    },
    {
      "cell_type": "code",
      "execution_count": 6,
      "metadata": {
        "id": "GNP0XjeNMAwS"
      },
      "outputs": [],
      "source": [
        "from keras.layers import Dense, GlobalAveragePooling2D\n",
        "from keras.models import Model\n",
        "\n",
        "# add new classifier layers\n",
        "x = base_model.output\n",
        "x = GlobalAveragePooling2D()(x)\n",
        "x = Dense(256, activation='relu')(x)\n",
        "predictions = Dense(train_generator.num_classes, activation='softmax')(x)"
      ]
    },
    {
      "cell_type": "markdown",
      "metadata": {
        "id": "of2i41TbQKpb"
      },
      "source": [
        "# **Step 6 - Define New Model**"
      ]
    },
    {
      "cell_type": "code",
      "execution_count": 7,
      "metadata": {
        "id": "FoPweRu-QHs0"
      },
      "outputs": [],
      "source": [
        "model = Model(inputs=base_model.input, outputs=predictions)"
      ]
    },
    {
      "cell_type": "markdown",
      "metadata": {
        "id": "PCdgm7BAQhzk"
      },
      "source": [
        "# **Step 7 - Compile the model with a suitable optimizier and loss funcation**"
      ]
    },
    {
      "cell_type": "code",
      "execution_count": 8,
      "metadata": {
        "id": "g7vszsfFQhk9"
      },
      "outputs": [],
      "source": [
        "model.compile(optimizer='adam',loss='categorical_crossentropy',metrics=['accuracy'])"
      ]
    },
    {
      "cell_type": "markdown",
      "metadata": {
        "id": "56N8MOSuRfiB"
      },
      "source": [
        "# **Step 8 - Train the model on the train data** "
      ]
    },
    {
      "cell_type": "code",
      "execution_count": 9,
      "metadata": {
        "id": "BeDa8YUuRcvC",
        "colab": {
          "base_uri": "https://localhost:8080/"
        },
        "outputId": "ef3707cf-4197-4d56-9a2f-d7509836a91b"
      },
      "outputs": [
        {
          "output_type": "stream",
          "name": "stdout",
          "text": [
            "Epoch 1/3\n",
            "897/897 [==============================] - 8390s 9s/step - loss: 2.7277 - accuracy: 0.3447 - val_loss: 1.6677 - val_accuracy: 0.7043\n",
            "Epoch 2/3\n",
            "897/897 [==============================] - 7903s 9s/step - loss: 1.0493 - accuracy: 0.8887 - val_loss: 0.5299 - val_accuracy: 0.9628\n",
            "Epoch 3/3\n",
            "897/897 [==============================] - 7877s 9s/step - loss: 0.4089 - accuracy: 0.9753 - val_loss: 0.2183 - val_accuracy: 0.9861\n"
          ]
        },
        {
          "output_type": "execute_result",
          "data": {
            "text/plain": [
              "<keras.callbacks.History at 0x7f2eee78ab60>"
            ]
          },
          "metadata": {},
          "execution_count": 9
        }
      ],
      "source": [
        "num_epochs = 3  # define the number of epochs to train the model #Note : but in ideal set 35 epochs\n",
        "\n",
        "# train the model\n",
        "model.fit(train_generator, epochs=num_epochs, validation_data=test_generator)"
      ]
    },
    {
      "cell_type": "markdown",
      "metadata": {
        "id": "_6_F1eV3HncP"
      },
      "source": [
        "# **Step 9 - Evaluate te model on the test data**"
      ]
    },
    {
      "cell_type": "code",
      "execution_count": 10,
      "metadata": {
        "id": "5cdf3avfHwMe",
        "colab": {
          "base_uri": "https://localhost:8080/"
        },
        "outputId": "2fdb76a2-afd8-41b4-a108-aa0a82b3e5ea"
      },
      "outputs": [
        {
          "output_type": "stream",
          "name": "stdout",
          "text": [
            "439/439 [==============================] - 2580s 6s/step - loss: 0.2183 - accuracy: 0.9861\n",
            "Test Loss: 0.2183074802160263\n",
            "Test Accuracy: 0.9861160516738892\n"
          ]
        }
      ],
      "source": [
        "test_loss, test_accuracy = model.evaluate(test_generator)\n",
        "print('Test Loss:', test_loss)\n",
        "print('Test Accuracy:', test_accuracy)"
      ]
    },
    {
      "cell_type": "markdown",
      "metadata": {
        "id": "CvEzkp5rITEX"
      },
      "source": [
        "# **Step 10 - Save the Model**"
      ]
    },
    {
      "cell_type": "code",
      "execution_count": 11,
      "metadata": {
        "id": "wif9QUoGIX8g"
      },
      "outputs": [],
      "source": [
        "model.save('model.h5')"
      ]
    }
  ],
  "metadata": {
    "colab": {
      "provenance": [],
      "gpuType": "T4"
    },
    "gpuClass": "standard",
    "kernelspec": {
      "display_name": "Python 3",
      "name": "python3"
    },
    "language_info": {
      "name": "python"
    }
  },
  "nbformat": 4,
  "nbformat_minor": 0
}